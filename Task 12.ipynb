{
 "cells": [
  {
   "cell_type": "markdown",
   "id": "9242d32a",
   "metadata": {},
   "source": [
    "## Write a Python program that uses a while loop to print the numbers from A to P."
   ]
  },
  {
   "cell_type": "code",
   "execution_count": 1,
   "id": "129adece",
   "metadata": {},
   "outputs": [
    {
     "name": "stdout",
     "output_type": "stream",
     "text": [
      "A\n",
      "B\n",
      "C\n",
      "D\n",
      "E\n",
      "F\n",
      "G\n",
      "H\n",
      "I\n",
      "J\n",
      "K\n",
      "L\n",
      "M\n",
      "N\n",
      "O\n",
      "P\n"
     ]
    }
   ],
   "source": [
    "n= 0\n",
    "while n<16:\n",
    "    print(chr(65+n))\n",
    "    n +=1"
   ]
  },
  {
   "cell_type": "markdown",
   "id": "4d352a6c",
   "metadata": {},
   "source": [
    "## Modify the program to print only the even numbers from 1 to 20 except mutiple of 3 using a while loop."
   ]
  },
  {
   "cell_type": "code",
   "execution_count": 1,
   "id": "d48cbd66",
   "metadata": {},
   "outputs": [
    {
     "name": "stdout",
     "output_type": "stream",
     "text": [
      "2\n",
      "4\n",
      "8\n",
      "10\n",
      "14\n",
      "16\n",
      "20\n"
     ]
    }
   ],
   "source": [
    "n= 1\n",
    "while n <= 21:\n",
    "    if (n % 2 == 0) and (n % 3 != 0):\n",
    "        print(n)\n",
    "    n= n+1"
   ]
  },
  {
   "cell_type": "markdown",
   "id": "f3392210",
   "metadata": {},
   "source": [
    "## Create a program that prompts the user for an integer input and then uses a while loop to print the countdown from that number to 1."
   ]
  },
  {
   "cell_type": "code",
   "execution_count": 1,
   "id": "ea930604",
   "metadata": {},
   "outputs": [
    {
     "name": "stdout",
     "output_type": "stream",
     "text": [
      "enter a number15\n",
      "15\n",
      "14\n",
      "13\n",
      "12\n",
      "11\n",
      "10\n",
      "9\n",
      "8\n",
      "7\n",
      "6\n",
      "5\n",
      "4\n",
      "3\n",
      "2\n",
      "1\n"
     ]
    }
   ],
   "source": [
    "a = int(input(\"enter a number\"))\n",
    "while (a >= 1):\n",
    "    print(a)\n",
    "    a = a-1"
   ]
  },
  {
   "cell_type": "markdown",
   "id": "d8fd920f",
   "metadata": {},
   "source": [
    "## Write a Python program that uses a while loop to repeatedly ask the user to enter a number. If the user enters 0, exit the loop using the break statement. Otherwise, continue prompting for numbers."
   ]
  },
  {
   "cell_type": "code",
   "execution_count": 2,
   "id": "8e290e6f",
   "metadata": {},
   "outputs": [
    {
     "name": "stdout",
     "output_type": "stream",
     "text": [
      "enter a number:: 5\n",
      "enter a number:: 4\n",
      "enter a number:: 6\n",
      "enter a number:: 7\n",
      "enter a number:: 8\n",
      "enter a number:: 9\n",
      "enter a number:: 0\n"
     ]
    }
   ],
   "source": [
    "n= int(input(\"enter a number:: \"))\n",
    "while n!= 0:\n",
    "    n= int(input(\"enter a number:: \"))\n",
    "    if n == 0:\n",
    "        break"
   ]
  },
  {
   "cell_type": "markdown",
   "id": "2f6a7482",
   "metadata": {},
   "source": [
    "## 5. Create a program that uses a while loop to print the numbers from 1 to 20, but skip printing the numbers 5, 10, and 15 using the continue statement.\n"
   ]
  },
  {
   "cell_type": "code",
   "execution_count": 1,
   "id": "3fd61084",
   "metadata": {},
   "outputs": [
    {
     "name": "stdout",
     "output_type": "stream",
     "text": [
      "1\n",
      "2\n",
      "3\n",
      "4\n",
      "6\n",
      "7\n",
      "8\n",
      "9\n",
      "10\n",
      "11\n",
      "12\n",
      "13\n",
      "14\n",
      "16\n",
      "17\n",
      "18\n",
      "19\n"
     ]
    }
   ],
   "source": [
    "a = 1\n",
    "for i in range(1,20):\n",
    "    if i in [5,15,15]:\n",
    "        continue\n",
    "    else:\n",
    "        print(i)"
   ]
  },
  {
   "cell_type": "markdown",
   "id": "ac26817f",
   "metadata": {},
   "source": [
    "## 6. Write a Python program that simulates a simple password entry system. Ask the user to enter a password, and use a while loop to repeatedly prompt for the password until the correct password \"abc123\" is entered. Once the correct password is entered, exit the loop."
   ]
  },
  {
   "cell_type": "code",
   "execution_count": 2,
   "id": "0fc167da",
   "metadata": {},
   "outputs": [
    {
     "name": "stdout",
     "output_type": "stream",
     "text": [
      "enter your password:: subh123\n",
      "enter your password:: abc123\n"
     ]
    }
   ],
   "source": [
    "password = input(\"enter your password:: \")\n",
    "while password:\n",
    "    if (password != \"abc123\"):\n",
    "        password= input(\"enter your password:: \")\n",
    "    else:\n",
    "        break"
   ]
  },
  {
   "cell_type": "markdown",
   "id": "25e1e1ee",
   "metadata": {},
   "source": [
    "## 7. Calculate and print the sum of all the positive integers entered by the user.\n"
   ]
  },
  {
   "cell_type": "code",
   "execution_count": 3,
   "id": "3f0d3f5b",
   "metadata": {},
   "outputs": [
    {
     "name": "stdout",
     "output_type": "stream",
     "text": [
      "enter no. of integers to add: 3\n",
      "enter a number: 4\n",
      "enter a number: 5\n",
      "enter a number: 9\n",
      "the sum of all the positive integers 18\n"
     ]
    }
   ],
   "source": [
    "n = int(input(\"enter no. of integers to add: \"))\n",
    "a = 0\n",
    "b = 0\n",
    "while n:\n",
    "    for i in range(0,n):\n",
    "        b = int(input('enter a number: '))\n",
    "        if b>0:\n",
    "            a =  a+b\n",
    "        else:\n",
    "            print(\"enter a valid number\")\n",
    "    print(\"the sum of all the positive integers\", a)\n",
    "    break      "
   ]
  },
  {
   "cell_type": "code",
   "execution_count": null,
   "id": "7755569b",
   "metadata": {},
   "outputs": [],
   "source": []
  }
 ],
 "metadata": {
  "kernelspec": {
   "display_name": "Python 3 (ipykernel)",
   "language": "python",
   "name": "python3"
  },
  "language_info": {
   "codemirror_mode": {
    "name": "ipython",
    "version": 3
   },
   "file_extension": ".py",
   "mimetype": "text/x-python",
   "name": "python",
   "nbconvert_exporter": "python",
   "pygments_lexer": "ipython3",
   "version": "3.11.4"
  }
 },
 "nbformat": 4,
 "nbformat_minor": 5
}
